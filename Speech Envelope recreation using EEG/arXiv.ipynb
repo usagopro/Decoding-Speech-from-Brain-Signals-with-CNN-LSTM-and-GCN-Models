{
 "cells": [
  {
   "cell_type": "code",
   "execution_count": 2,
   "id": "3d7450fb",
   "metadata": {},
   "outputs": [],
   "source": [
    "import torch\n",
    "import torch.nn as nn\n",
    "from torch.utils.data import DataLoader, TensorDataset\n",
    "import torch.optim as optim\n",
    "from scipy.stats import pearsonr\n",
    "import torch.nn.functional as F"
   ]
  },
  {
   "cell_type": "code",
   "execution_count": 3,
   "id": "85a2e038",
   "metadata": {},
   "outputs": [],
   "source": [
    "train_data = torch.load('train.pt')\n",
    "val_data = torch.load('val.pt')\n",
    "test_data = torch.load('test.pt')"
   ]
  },
  {
   "cell_type": "code",
   "execution_count": 4,
   "id": "b3c510da",
   "metadata": {},
   "outputs": [],
   "source": [
    "X_train, y_train = train_data[:][:1], train_data[:][1:] \n",
    "X_val, y_val = val_data[:][:1], val_data[:][1:] \n",
    "X_test, y_test = test_data[:][:1], test_data[:][1:] "
   ]
  },
  {
   "cell_type": "code",
   "execution_count": 5,
   "id": "04ebac95",
   "metadata": {},
   "outputs": [],
   "source": [
    "def prepare_dataset(data):\n",
    "    eeg_list = []\n",
    "    stim_list = []\n",
    "    for eeg, stim in data:\n",
    "        eeg_list.append(eeg.float())           # (320, 64)\n",
    "        stim_list.append(stim.float())         # (320,)\n",
    "    eeg_tensor = torch.stack(eeg_list)         # (N, 320, 64)\n",
    "    stim_tensor = torch.stack(stim_list)       # (N, 320)\n",
    "    return eeg_tensor, stim_tensor"
   ]
  },
  {
   "cell_type": "code",
   "execution_count": 6,
   "id": "af9edc0a",
   "metadata": {},
   "outputs": [],
   "source": [
    "X_train, y_train = prepare_dataset(train_data)\n",
    "X_val, y_val = prepare_dataset(val_data)\n",
    "X_test, y_test = prepare_dataset(test_data)"
   ]
  },
  {
   "cell_type": "code",
   "execution_count": 7,
   "id": "900d8e7f",
   "metadata": {},
   "outputs": [],
   "source": [
    "device = torch.device(\"cuda\" if torch.cuda.is_available() else \"cpu\")"
   ]
  },
  {
   "cell_type": "code",
   "execution_count": 8,
   "id": "fa5a9f3f",
   "metadata": {},
   "outputs": [],
   "source": [
    "hyperparams = {\n",
    "    'eeg_channels': 64,\n",
    "    'seq_len': 320,\n",
    "    'conv_channels': [64, 128, 256, 512, 512],  # per encoder layer\n",
    "    'kernel_size': 5,\n",
    "    'stride': 1,\n",
    "    'pool_size': 2,\n",
    "    'upsample_mode': 'nearest',\n",
    "    'dropout': 0.3,\n",
    "}"
   ]
  },
  {
   "cell_type": "code",
   "execution_count": null,
   "id": "6c956811",
   "metadata": {},
   "outputs": [],
   "source": [
    "class MLAEncoder(nn.Module):\n",
    "    def __init__(self, in_channels, conv_channels, kernel_size, pool_size, dropout):\n",
    "        super().__init__()\n",
    "        layers = []\n",
    "        curr_channels = in_channels\n",
    "        for out_channels in conv_channels:\n",
    "            layers.append(nn.Conv1d(curr_channels, out_channels, kernel_size, padding=kernel_size//2))\n",
    "            layers.append(nn.BatchNorm1d(out_channels))\n",
    "            layers.append(nn.ReLU())\n",
    "            layers.append(nn.MaxPool1d(pool_size))\n",
    "            layers.append(nn.Dropout(dropout))\n",
    "            curr_channels = out_channels\n",
    "        self.encoder = nn.Sequential(*layers)\n",
    "\n",
    "    def forward(self, x):\n",
    "        return self.encoder(x)\n",
    "\n",
    "class MLADecoder(nn.Module):\n",
    "    def __init__(self, conv_channels, kernel_size, upsample_mode, dropout, output_length):\n",
    "        super().__init__()\n",
    "        layers = []\n",
    "        channels = list(reversed(conv_channels))\n",
    "        for i in range(len(channels) - 1):\n",
    "            layers.append(nn.Upsample(scale_factor=2, mode=upsample_mode))\n",
    "            layers.append(nn.Conv1d(channels[i], channels[i+1], kernel_size, padding=kernel_size//2))\n",
    "            layers.append(nn.BatchNorm1d(channels[i+1]))\n",
    "            layers.append(nn.ReLU())\n",
    "            layers.append(nn.Dropout(dropout))\n",
    "        self.decoder = nn.Sequential(*layers)\n",
    "        self.final_conv = nn.Conv1d(channels[-1], 1, kernel_size=1)\n",
    "        self.output_length = output_length\n",
    "\n",
    "    def forward(self, x):\n",
    "        x = self.decoder(x)\n",
    "        x = self.final_conv(x)\n",
    "        return x.squeeze(1)[:, :self.output_length]  # Output shape: (B, T)\n",
    "\n",
    "class MLAcodec(nn.Module):\n",
    "    def __init__(self, config):\n",
    "        super().__init__()\n",
    "        self.encoder = MLAEncoder(\n",
    "            in_channels=config['eeg_channels'],\n",
    "            conv_channels=config['conv_channels'],\n",
    "            kernel_size=config['kernel_size'],\n",
    "            pool_size=config['pool_size'],\n",
    "            dropout=config['dropout']\n",
    "        )\n",
    "        self.decoder = MLADecoder(\n",
    "            conv_channels=config['conv_channels'],\n",
    "            kernel_size=config['kernel_size'],\n",
    "            upsample_mode=config['upsample_mode'],\n",
    "            dropout=config['dropout'],\n",
    "            output_length=config['seq_len']\n",
    "        )\n",
    "\n",
    "    def forward(self, x):\n",
    "        x = x.permute(0, 2, 1)  # (B, T, C) → (B, C, T)\n",
    "        z = self.encoder(x)\n",
    "        out = self.decoder(z)\n",
    "        return out"
   ]
  },
  {
   "cell_type": "code",
   "execution_count": null,
   "id": "e989d7f7",
   "metadata": {},
   "outputs": [],
   "source": [
    "model = MLAcodec(hyperparams)"
   ]
  },
  {
   "cell_type": "code",
   "execution_count": null,
   "id": "ca4bc60f",
   "metadata": {},
   "outputs": [],
   "source": [
    "\n",
    "batch_size = 32  # Adjust as needed for memory\n",
    "\n",
    "train_dataset = TensorDataset(X_train, y_train)\n",
    "val_dataset = TensorDataset(X_val, y_val)\n",
    "test_dataset = TensorDataset(X_test, y_test)\n",
    "\n",
    "train_loader = DataLoader(train_dataset, batch_size=batch_size, shuffle=True)\n",
    "val_loader = DataLoader(val_dataset, batch_size=batch_size)\n",
    "test_loader = DataLoader(test_dataset, batch_size=batch_size)"
   ]
  },
  {
   "cell_type": "code",
   "execution_count": null,
   "id": "1fbb4baf",
   "metadata": {},
   "outputs": [],
   "source": [
    "def pearson_loss(pred, target):\n",
    "    pred = pred - pred.mean(dim=1, keepdim=True)\n",
    "    target = target - target.mean(dim=1, keepdim=True)\n",
    "    numerator = (pred * target).sum(dim=1)\n",
    "    denominator = torch.sqrt((pred ** 2).sum(dim=1) * (target ** 2).sum(dim=1) + 1e-8)\n",
    "    loss = 1 - numerator / denominator\n",
    "    return loss.mean()"
   ]
  },
  {
   "cell_type": "code",
   "execution_count": null,
   "id": "715af186",
   "metadata": {},
   "outputs": [],
   "source": [
    "config = {\n",
    "    'eeg_channels': 64,\n",
    "    'seq_len': 320,\n",
    "    'conv_channels': [64, 128, 256, 256],\n",
    "    'kernel_size': 5,\n",
    "    'pool_size': 2,\n",
    "    'upsample_mode': 'nearest',\n",
    "    'dropout': 0.3\n",
    "}\n",
    "\n",
    "model = MLAcodec(config).to(device)\n",
    "optimizer = optim.Adam(model.parameters(), lr=1e-3)\n",
    "epochs = 20\n",
    "\n",
    "for epoch in range(epochs):\n",
    "    model.train()\n",
    "    train_loss = 0\n",
    "    for X_batch, y_batch in train_loader:\n",
    "        X_batch, y_batch = X_batch.to(device), y_batch.to(device)\n",
    "        optimizer.zero_grad()\n",
    "        preds = model(X_batch)\n",
    "        loss = pearson_loss(preds, y_batch)\n",
    "        loss.backward()\n",
    "        optimizer.step()\n",
    "        train_loss += loss.item()\n",
    "\n",
    "    model.eval()\n",
    "    val_loss = 0\n",
    "    with torch.no_grad():\n",
    "        for X_batch, y_batch in val_loader:\n",
    "            X_batch, y_batch = X_batch.to(device), y_batch.to(device)\n",
    "            preds = model(X_batch)\n",
    "            loss = pearson_loss(preds, y_batch)\n",
    "            val_loss += loss.item()\n",
    "\n",
    "    print(f\"Epoch {epoch+1}/{epochs} | Train Loss: {train_loss/len(train_loader):.4f} | Val Loss: {val_loss/len(val_loader):.4f}\")"
   ]
  },
  {
   "cell_type": "code",
   "execution_count": null,
   "id": "5e1017f2",
   "metadata": {},
   "outputs": [],
   "source": []
  },
  {
   "cell_type": "code",
   "execution_count": null,
   "id": "3ca9cdf2",
   "metadata": {},
   "outputs": [],
   "source": []
  },
  {
   "cell_type": "code",
   "execution_count": null,
   "id": "1106b58f",
   "metadata": {},
   "outputs": [],
   "source": []
  },
  {
   "cell_type": "code",
   "execution_count": null,
   "id": "672bc976",
   "metadata": {},
   "outputs": [],
   "source": [
    "def evaluate_model(model, data_loader, device):\n",
    "    model.eval()\n",
    "    total_loss = 0\n",
    "    all_preds = []\n",
    "    all_targets = []\n",
    "\n",
    "    with torch.no_grad():\n",
    "        for x, y in data_loader:\n",
    "            x, y = x.to(device), y.to(device)\n",
    "            y_pred = model(x)\n",
    "\n",
    "            loss = criterion(y_pred, y)\n",
    "            total_loss += loss.item()\n",
    "\n",
    "            all_preds.append(y_pred.cpu())\n",
    "            all_targets.append(y.cpu())\n",
    "\n",
    "    # Concatenate all batches\n",
    "    preds = torch.cat(all_preds, dim=0).numpy().flatten()\n",
    "    targets = torch.cat(all_targets, dim=0).numpy().flatten()\n",
    "\n",
    "    # Pearson correlation\n",
    "    pearson_corr = pearsonr(preds, targets)[0]\n",
    "\n",
    "    # Cosine similarity\n",
    "    cosine_sim = F.cosine_similarity(\n",
    "        torch.tensor(preds), torch.tensor(targets), dim=0\n",
    "    ).item()\n",
    "\n",
    "    return total_loss / len(data_loader), pearson_corr, cosine_sim"
   ]
  },
  {
   "cell_type": "code",
   "execution_count": null,
   "id": "347a8f3b",
   "metadata": {},
   "outputs": [],
   "source": [
    "# Final Test Evaluation\n",
    "model.eval()\n",
    "with torch.no_grad():\n",
    "    test_loss = sum(criterion(model(x.to(device)), y.to(device)).item() for x, y in test_loader) / len(test_loader)\n",
    "print(f\"\\n✅ Final Test Loss: {test_loss:.4f}\")"
   ]
  },
  {
   "cell_type": "code",
   "execution_count": null,
   "id": "3ef15342",
   "metadata": {},
   "outputs": [],
   "source": [
    "val_loss, val_pearson, val_cosine = evaluate_model(model, val_loader, device)\n",
    "print(\n",
    "    f\"val data: Epoch {epochs:02d} | Val Loss: {val_loss:.4f} | Pearson: {val_pearson:.4f} | Cosine: {val_cosine:.4f}\"\n",
    ")\n",
    "\n",
    "val_loss, val_pearson, val_cosine = evaluate_model(model, test_loader, device)\n",
    "print(\n",
    "    f\"test data: Epoch {epochs:02d} | test Loss: {val_loss:.4f} | Pearson: {val_pearson:.4f} | Cosine: {val_cosine:.4f}\"\n",
    ")"
   ]
  },
  {
   "cell_type": "code",
   "execution_count": null,
   "id": "94e34129",
   "metadata": {},
   "outputs": [],
   "source": [
    "import matplotlib.pyplot as plt\n",
    "\n",
    "x_sample, y_true = X_test[0:1], y_test[0:1]\n",
    "\n",
    "model.eval()\n",
    "with torch.no_grad():\n",
    "    x_sample = x_sample.to(device)           # Move to GPU if available\n",
    "    y_pred = model(x_sample).squeeze().cpu()  # Move prediction back to CPU for plotting\n",
    "\n",
    "plt.figure(figsize=(10, 4))\n",
    "plt.plot(y_true.squeeze().numpy(), label='True')\n",
    "plt.plot(y_pred.numpy(), label='Predicted')\n",
    "plt.legend()\n",
    "plt.title(\"Stimulus Prediction from EEG\")\n",
    "plt.show()\n"
   ]
  },
  {
   "cell_type": "code",
   "execution_count": null,
   "id": "522172f2",
   "metadata": {},
   "outputs": [],
   "source": []
  }
 ],
 "metadata": {
  "kernelspec": {
   "display_name": "Python (mtech_env)",
   "language": "python",
   "name": "mtech_env"
  },
  "language_info": {
   "codemirror_mode": {
    "name": "ipython",
    "version": 3
   },
   "file_extension": ".py",
   "mimetype": "text/x-python",
   "name": "python",
   "nbconvert_exporter": "python",
   "pygments_lexer": "ipython3",
   "version": "3.10.16"
  }
 },
 "nbformat": 4,
 "nbformat_minor": 5
}
